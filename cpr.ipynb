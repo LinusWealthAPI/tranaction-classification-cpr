{
 "cells": [
  {
   "cell_type": "markdown",
   "id": "c5e8781861a2dc4",
   "metadata": {
    "collapsed": false
   },
   "source": [
    "# Build custom image locally"
   ]
  },
  {
   "cell_type": "code",
   "execution_count": null,
   "id": "137660584ad32e6d",
   "metadata": {
    "ExecuteTime": {
     "end_time": "2024-02-20T12:58:22.561335Z",
     "start_time": "2024-02-20T12:58:22.557639Z"
    },
    "collapsed": false
   },
   "outputs": [],
   "source": [
    "from google.cloud import aiplatform\n",
    "\n",
    "REGION = \"europe-west3\"\n",
    "PROJECT_ID = \"wealthapi-ai\"\n",
    "MODEL_DISPLAY_NAME = \"transaction_classification_cpr\"\n",
    "REPOSITORY = \"wealthapi\"\n",
    "IMAGE = \"transaction-classification-custom-predictor\"\n",
    "GCS_PATH_TO_MODEL_ARTIFACTS = \"gs://transaction_classification_frankfurt/model_v1/\"\n",
    "\n",
    "aiplatform.init(project=PROJECT_ID,\n",
    "                location=REGION)"
   ]
  },
  {
   "cell_type": "code",
   "execution_count": null,
   "id": "48b0fd1b6020b4e2",
   "metadata": {
    "ExecuteTime": {
     "end_time": "2024-02-20T12:58:37.036204Z",
     "start_time": "2024-02-20T12:58:34.249663Z"
    },
    "collapsed": false
   },
   "outputs": [],
   "source": [
    "import os\n",
    "\n",
    "from google.cloud.aiplatform.prediction import LocalModel\n",
    "\n",
    "from src.predictor import CprPredictor\n",
    "\n",
    "local_model = LocalModel.build_cpr_model(\n",
    "    \"src\",\n",
    "    f\"{REGION}-docker.pkg.dev/{PROJECT_ID}/{REPOSITORY}/{IMAGE}\",\n",
    "    predictor=CprPredictor,\n",
    "    requirements_path=os.path.join(\"src\", \"requirements.txt\"),\n",
    ")"
   ]
  },
  {
   "cell_type": "markdown",
   "id": "2fb51b699f8f000c",
   "metadata": {
    "collapsed": false
   },
   "source": [
    "# Check build image"
   ]
  },
  {
   "cell_type": "code",
   "execution_count": null,
   "id": "9014447244e30e2b",
   "metadata": {
    "ExecuteTime": {
     "end_time": "2024-02-20T12:58:45.476469Z",
     "start_time": "2024-02-20T12:58:45.466174Z"
    },
    "collapsed": false
   },
   "outputs": [],
   "source": [
    "local_model.get_serving_container_spec()"
   ]
  },
  {
   "cell_type": "markdown",
   "id": "d5ecc6e390184c24",
   "metadata": {
    "collapsed": false
   },
   "source": [
    "# Create container locally and test prediction"
   ]
  },
  {
   "cell_type": "code",
   "execution_count": null,
   "id": "409b3bbaf702a325",
   "metadata": {
    "ExecuteTime": {
     "end_time": "2024-02-20T13:03:20.129915Z",
     "start_time": "2024-02-20T12:59:00.908399Z"
    },
    "collapsed": false
   },
   "outputs": [],
   "source": [
    "with local_model.deploy_to_local_endpoint(\n",
    "    artifact_uri=GCS_PATH_TO_MODEL_ARTIFACTS\n",
    ") as local_endpoint:\n",
    "    health_check_response = local_endpoint.run_health_check()\n",
    "    predict_response = local_endpoint.predict(\n",
    "        request_file=\"instances.json\",\n",
    "        headers={\"Content-Type\": \"application/json\"},\n",
    "    )"
   ]
  },
  {
   "cell_type": "code",
   "execution_count": null,
   "id": "4a150c411933708b",
   "metadata": {
    "ExecuteTime": {
     "end_time": "2024-02-20T13:03:55.099345Z",
     "start_time": "2024-02-20T13:03:55.095156Z"
    },
    "collapsed": false
   },
   "outputs": [],
   "source": [
    "import codecs\n",
    "\n",
    "print(health_check_response)\n",
    "print(predict_response)\n",
    "print(codecs.decode(predict_response.content, 'unicode_escape'))"
   ]
  },
  {
   "cell_type": "code",
   "execution_count": null,
   "id": "1864f32974afbb93",
   "metadata": {
    "ExecuteTime": {
     "end_time": "2024-02-20T13:04:02.421546Z",
     "start_time": "2024-02-20T13:03:56.426052Z"
    },
    "collapsed": false
   },
   "outputs": [],
   "source": [
    "local_model.push_image()"
   ]
  },
  {
   "cell_type": "code",
   "execution_count": null,
   "id": "750ac47ac687c695",
   "metadata": {
    "ExecuteTime": {
     "end_time": "2024-02-15T14:12:25.892992Z",
     "start_time": "2024-02-15T14:09:23.711041Z"
    },
    "collapsed": false
   },
   "outputs": [],
   "source": [
    "from google.cloud import aiplatform\n",
    "\n",
    "model = aiplatform.Model.upload(\n",
    "    local_model=local_model,\n",
    "    display_name=MODEL_DISPLAY_NAME,\n",
    "    artifact_uri=GCS_PATH_TO_MODEL_ARTIFACTS,\n",
    ")"
   ]
  }
 ],
 "metadata": {
  "kernelspec": {
   "display_name": "Python 3",
   "language": "python",
   "name": "python3"
  },
  "language_info": {
   "codemirror_mode": {
    "name": "ipython",
    "version": 3
   },
   "file_extension": ".py",
   "mimetype": "text/x-python",
   "name": "python",
   "nbconvert_exporter": "python",
   "pygments_lexer": "ipython3",
   "version": "3.10.12"
  }
 },
 "nbformat": 4,
 "nbformat_minor": 5
}
